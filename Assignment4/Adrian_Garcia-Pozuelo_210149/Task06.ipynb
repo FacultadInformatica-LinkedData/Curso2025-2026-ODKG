{
  "cells": [
    {
      "cell_type": "markdown",
      "metadata": {
        "id": "nOOPLCHF7hLB"
      },
      "source": [
        "**Task 06: Modifying RDF(s)**"
      ]
    },
    {
      "cell_type": "code",
      "execution_count": 59,
      "metadata": {
        "id": "Yl9npCt8n6m-"
      },
      "outputs": [
        {
          "name": "stdout",
          "output_type": "stream",
          "text": [
            "Requirement already satisfied: rdflib in d:\\universidad\\master_data_science\\open_data_and_knowledge_graphs\\curso2025-2026-odkg\\assignment4\\adrian_garcia-pozuelo_210149\\.venv\\lib\\site-packages (7.2.1)\n",
            "Requirement already satisfied: isodate<1.0.0,>=0.7.2 in d:\\universidad\\master_data_science\\open_data_and_knowledge_graphs\\curso2025-2026-odkg\\assignment4\\adrian_garcia-pozuelo_210149\\.venv\\lib\\site-packages (from rdflib) (0.7.2)\n",
            "Requirement already satisfied: pyparsing<4,>=2.1.0 in d:\\universidad\\master_data_science\\open_data_and_knowledge_graphs\\curso2025-2026-odkg\\assignment4\\adrian_garcia-pozuelo_210149\\.venv\\lib\\site-packages (from rdflib) (3.2.5)\n"
          ]
        },
        {
          "name": "stderr",
          "output_type": "stream",
          "text": [
            "\n",
            "[notice] A new release of pip is available: 23.0.1 -> 25.2\n",
            "[notice] To update, run: python.exe -m pip install --upgrade pip\n"
          ]
        }
      ],
      "source": [
        "!pip install rdflib\n",
        "import urllib.request\n",
        "url = 'https://raw.githubusercontent.com/FacultadInformatica-LinkedData/Curso2025-2026/refs/heads/master/Assignment4/course_materials/python/validation.py'\n",
        "urllib.request.urlretrieve(url, 'validation.py')\n",
        "github_storage = \"https://raw.githubusercontent.com/FacultadInformatica-LinkedData/Curso2025-2026/master/Assignment4/course_materials\""
      ]
    },
    {
      "cell_type": "markdown",
      "metadata": {
        "id": "XY7aPc86Bqoo"
      },
      "source": [
        "Import RDFLib main methods"
      ]
    },
    {
      "cell_type": "code",
      "execution_count": 73,
      "metadata": {
        "id": "9ERh415on7kF"
      },
      "outputs": [],
      "source": [
        "from rdflib import Graph, Namespace, Literal, XSD\n",
        "from rdflib.namespace import RDF, RDFS\n",
        "from validation import Report\n",
        "g = Graph()\n",
        "g.namespace_manager.bind('ns', Namespace(\"http://somewhere#\"), override=False)\n",
        "r = Report()"
      ]
    },
    {
      "cell_type": "markdown",
      "metadata": {
        "id": "gM3DASkTQQ5Y"
      },
      "source": [
        "Create a new class named Researcher"
      ]
    },
    {
      "cell_type": "code",
      "execution_count": 74,
      "metadata": {
        "id": "6vtudax8Xb7b"
      },
      "outputs": [
        {
          "name": "stdout",
          "output_type": "stream",
          "text": [
            "http://mydomain.org#Researcher http://www.w3.org/1999/02/22-rdf-syntax-ns#type http://www.w3.org/2000/01/rdf-schema#Class\n"
          ]
        }
      ],
      "source": [
        "ns = Namespace(\"http://mydomain.org#\")\n",
        "g.add((ns.Researcher, RDF.type, RDFS.Class))\n",
        "for s, p, o in g:\n",
        "  print(s,p,o)"
      ]
    },
    {
      "cell_type": "markdown",
      "metadata": {
        "id": "ZX8w9jnV5Xhp"
      },
      "source": [
        "**Task 6.0: Create new prefixes for \"ontology\" and \"person\" as shown in slide 14 of the Slidedeck 01a.RDF(s)-SPARQL shown in class.**"
      ]
    },
    {
      "cell_type": "code",
      "execution_count": 75,
      "metadata": {
        "id": "b1ZQgYgB5vi7"
      },
      "outputs": [],
      "source": [
        "# this task is validated in the next step\n",
        "\n",
        "ONTOLOGY = Namespace(\"http://oeg.fi.upm.es/resource/person/\")\n",
        "PERSON = Namespace(\"http://oeg.fi.upm.es/def/people#\")\n",
        "\n",
        "g.namespace_manager.bind('ontology', ONTOLOGY, override=False)\n",
        "g.namespace_manager.bind('person', PERSON, override=False)"
      ]
    },
    {
      "cell_type": "markdown",
      "metadata": {
        "id": "qp1oe2Eddsvo"
      },
      "source": [
        "**TASK 6.1: Reproduce the taxonomy of classes shown in slide 34 in class (all the classes under \"Vocabulario\", Slidedeck: 01a.RDF(s)-SPARQL). Add labels for each of them as they are in the diagram (exactly) with no language tags. Remember adding the correct datatype (xsd:String) when appropriate**\n"
      ]
    },
    {
      "cell_type": "code",
      "execution_count": 76,
      "metadata": {
        "id": "pnsrsgRUWF3A"
      },
      "outputs": [
        {
          "name": "stdout",
          "output_type": "stream",
          "text": [
            "http://oeg.fi.upm.es/def/people#FullProfessor http://www.w3.org/2000/01/rdf-schema#label FullProfessor\n",
            "http://oeg.fi.upm.es/def/people#Professor http://www.w3.org/2000/01/rdf-schema#label Professor\n",
            "http://oeg.fi.upm.es/def/people#Person http://www.w3.org/2000/01/rdf-schema#label Person\n",
            "http://oeg.fi.upm.es/def/people#AssociateProfessor http://www.w3.org/1999/02/22-rdf-syntax-ns#type http://www.w3.org/2000/01/rdf-schema#Class\n",
            "http://oeg.fi.upm.es/def/people#InterimAssociateProfessor http://www.w3.org/2000/01/rdf-schema#label InterimAssociateProfessor\n",
            "http://oeg.fi.upm.es/def/people#InterimAssociateProfessor http://www.w3.org/1999/02/22-rdf-syntax-ns#type http://www.w3.org/2000/01/rdf-schema#Class\n",
            "http://oeg.fi.upm.es/def/people#AssociateProfessor http://www.w3.org/2000/01/rdf-schema#label AssociateProfessor\n",
            "http://mydomain.org#Researcher http://www.w3.org/1999/02/22-rdf-syntax-ns#type http://www.w3.org/2000/01/rdf-schema#Class\n",
            "http://oeg.fi.upm.es/def/people#FullProfessor http://www.w3.org/1999/02/22-rdf-syntax-ns#type http://www.w3.org/2000/01/rdf-schema#Class\n",
            "http://oeg.fi.upm.es/def/people#FullProfessor http://www.w3.org/2000/01/rdf-schema#subClassOf http://oeg.fi.upm.es/def/people#Professor\n",
            "http://oeg.fi.upm.es/def/people#Professor http://www.w3.org/1999/02/22-rdf-syntax-ns#type http://www.w3.org/2000/01/rdf-schema#Class\n",
            "http://oeg.fi.upm.es/def/people#InterimAssociateProfessor http://www.w3.org/2000/01/rdf-schema#subClassOf http://oeg.fi.upm.es/def/people#AssociateProfessor\n",
            "http://oeg.fi.upm.es/def/people#AssociateProfessor http://www.w3.org/2000/01/rdf-schema#subClassOf http://oeg.fi.upm.es/def/people#Professor\n",
            "http://oeg.fi.upm.es/def/people#Person http://www.w3.org/1999/02/22-rdf-syntax-ns#type http://www.w3.org/2000/01/rdf-schema#Class\n",
            "http://oeg.fi.upm.es/def/people#Professor http://www.w3.org/2000/01/rdf-schema#subClassOf http://oeg.fi.upm.es/def/people#Person\n"
          ]
        }
      ],
      "source": [
        "# TO DO\n",
        "# rdf:type\n",
        "g.add((PERSON.Person, RDF.type, RDFS.Class))\n",
        "g.add((PERSON.Professor, RDF.type, RDFS.Class))\n",
        "g.add((PERSON.FullProfessor, RDF.type, RDFS.Class))\n",
        "g.add((PERSON.AssociateProfessor, RDF.type, RDFS.Class))\n",
        "g.add((PERSON.InterimAssociateProfessor, RDF.type, RDFS.Class))\n",
        "\n",
        "# rdfs:subClassOf\n",
        "g.add((PERSON.Professor, RDFS.subClassOf, PERSON.Person))\n",
        "g.add((PERSON.FullProfessor, RDFS.subClassOf, PERSON.Professor))\n",
        "g.add((PERSON.AssociateProfessor, RDFS.subClassOf, PERSON.Professor))\n",
        "g.add((PERSON.InterimAssociateProfessor, RDFS.subClassOf, PERSON.AssociateProfessor))\n",
        "\n",
        "# datatypes\n",
        "g.add((PERSON.Person, RDFS.label, Literal(\"Person\", datatype=XSD.string)))\n",
        "g.add((PERSON.Professor, RDFS.label, Literal(\"Professor\", datatype=XSD.string)))\n",
        "g.add((PERSON.FullProfessor, RDFS.label, Literal(\"FullProfessor\", datatype=XSD.string)))\n",
        "g.add((PERSON.AssociateProfessor, RDFS.label, Literal(\"AssociateProfessor\", datatype=XSD.string)))\n",
        "g.add((PERSON.InterimAssociateProfessor, RDFS.label, Literal(\"InterimAssociateProfessor\", datatype=XSD.string)))\n",
        "\n",
        "\n",
        "# Visualize the results\n",
        "for s, p, o in g:\n",
        "  print(s,p,o)"
      ]
    },
    {
      "cell_type": "code",
      "execution_count": 77,
      "metadata": {
        "id": "HdRPyusrjIuB"
      },
      "outputs": [
        {
          "name": "stdout",
          "output_type": "stream",
          "text": [
            "The namespace is correct for http://oeg.fi.upm.es/def/people#Professor\n",
            "The namespace is correct for http://oeg.fi.upm.es/def/people#Person\n",
            "The namespace is correct for http://oeg.fi.upm.es/def/people#AssociateProfessor\n",
            "The namespace is correct for http://oeg.fi.upm.es/def/people#InterimAssociateProfessor\n",
            "The namespace is correct for http://oeg.fi.upm.es/def/people#FullProfessor\n",
            "Hierarchy OK\n",
            "TASK 6.1 OK\n"
          ]
        }
      ],
      "source": [
        "# Validation. Do not remove\n",
        "r.validate_task_06_01(g)"
      ]
    },
    {
      "cell_type": "markdown",
      "metadata": {
        "id": "MXBqtBkJd22I"
      },
      "source": [
        "**TASK 6.2: Add the 3 properties shown in slide 36. Add labels for each of them (exactly as they are in the slide, with no language tags), and their corresponding domains and ranges using RDFS. Remember adding the correct datatype (xsd:String) when appropriate. If a property has no range, make it a literal (string)**"
      ]
    },
    {
      "cell_type": "code",
      "execution_count": 78,
      "metadata": {
        "id": "53hZNtXsXCNq"
      },
      "outputs": [
        {
          "name": "stdout",
          "output_type": "stream",
          "text": [
            "http://oeg.fi.upm.es/def/people#hasColleague http://www.w3.org/2000/01/rdf-schema#label hasColleague\n",
            "http://oeg.fi.upm.es/def/people#InterimAssociateProfessor http://www.w3.org/2000/01/rdf-schema#label InterimAssociateProfessor\n",
            "http://oeg.fi.upm.es/def/people#AssociateProfessor http://www.w3.org/2000/01/rdf-schema#label AssociateProfessor\n",
            "http://oeg.fi.upm.es/def/people#hasColleague http://www.w3.org/2000/01/rdf-schema#range http://oeg.fi.upm.es/def/people#Person\n",
            "http://mydomain.org#Researcher http://www.w3.org/1999/02/22-rdf-syntax-ns#type http://www.w3.org/2000/01/rdf-schema#Class\n",
            "http://oeg.fi.upm.es/def/people#FullProfessor http://www.w3.org/1999/02/22-rdf-syntax-ns#type http://www.w3.org/2000/01/rdf-schema#Class\n",
            "http://oeg.fi.upm.es/def/people#FullProfessor http://www.w3.org/2000/01/rdf-schema#subClassOf http://oeg.fi.upm.es/def/people#Professor\n",
            "http://oeg.fi.upm.es/def/people#InterimAssociateProfessor http://www.w3.org/2000/01/rdf-schema#subClassOf http://oeg.fi.upm.es/def/people#AssociateProfessor\n",
            "http://oeg.fi.upm.es/def/people#Professor http://www.w3.org/1999/02/22-rdf-syntax-ns#type http://www.w3.org/2000/01/rdf-schema#Class\n",
            "http://oeg.fi.upm.es/def/people#hasName http://www.w3.org/2000/01/rdf-schema#range http://www.w3.org/2000/01/rdf-schema#Literal\n",
            "http://oeg.fi.upm.es/def/people#AssociateProfessor http://www.w3.org/2000/01/rdf-schema#subClassOf http://oeg.fi.upm.es/def/people#Professor\n",
            "http://oeg.fi.upm.es/def/people#hasColleague http://www.w3.org/2000/01/rdf-schema#domain http://oeg.fi.upm.es/def/people#Person\n",
            "http://oeg.fi.upm.es/def/people#Person http://www.w3.org/1999/02/22-rdf-syntax-ns#type http://www.w3.org/2000/01/rdf-schema#Class\n",
            "http://oeg.fi.upm.es/def/people#hasName http://www.w3.org/1999/02/22-rdf-syntax-ns#type http://www.w3.org/1999/02/22-rdf-syntax-ns#Property\n",
            "http://oeg.fi.upm.es/def/people#hasName http://www.w3.org/2000/01/rdf-schema#label hasName\n",
            "http://oeg.fi.upm.es/def/people#hasHomePage http://www.w3.org/2000/01/rdf-schema#label hasHomePage\n",
            "http://oeg.fi.upm.es/def/people#FullProfessor http://www.w3.org/2000/01/rdf-schema#label FullProfessor\n",
            "http://oeg.fi.upm.es/def/people#Professor http://www.w3.org/2000/01/rdf-schema#label Professor\n",
            "http://oeg.fi.upm.es/def/people#Person http://www.w3.org/2000/01/rdf-schema#label Person\n",
            "http://oeg.fi.upm.es/def/people#hasHomePage http://www.w3.org/1999/02/22-rdf-syntax-ns#type http://www.w3.org/1999/02/22-rdf-syntax-ns#Property\n",
            "http://oeg.fi.upm.es/def/people#AssociateProfessor http://www.w3.org/1999/02/22-rdf-syntax-ns#type http://www.w3.org/2000/01/rdf-schema#Class\n",
            "http://oeg.fi.upm.es/def/people#InterimAssociateProfessor http://www.w3.org/1999/02/22-rdf-syntax-ns#type http://www.w3.org/2000/01/rdf-schema#Class\n",
            "http://oeg.fi.upm.es/def/people#hasName http://www.w3.org/2000/01/rdf-schema#domain http://oeg.fi.upm.es/def/people#Person\n",
            "http://oeg.fi.upm.es/def/people#hasColleague http://www.w3.org/1999/02/22-rdf-syntax-ns#type http://www.w3.org/1999/02/22-rdf-syntax-ns#Property\n",
            "http://oeg.fi.upm.es/def/people#hasHomePage http://www.w3.org/2000/01/rdf-schema#domain http://oeg.fi.upm.es/def/people#FullProfessor\n",
            "http://oeg.fi.upm.es/def/people#Professor http://www.w3.org/2000/01/rdf-schema#subClassOf http://oeg.fi.upm.es/def/people#Person\n"
          ]
        }
      ],
      "source": [
        "# TO DO\n",
        "# rdf:type, range, domain\n",
        "g.add((PERSON.hasName, RDF.type, RDF.Property))\n",
        "g.add((PERSON.hasName, RDFS.range, RDFS.Literal))\n",
        "g.add((PERSON.hasName, RDFS.domain, PERSON.Person))\n",
        "\n",
        "g.add((PERSON.hasColleague, RDF.type, RDF.Property))\n",
        "g.add((PERSON.hasColleague, RDFS.range, PERSON.Person))\n",
        "g.add((PERSON.hasColleague, RDFS.domain, PERSON.Person))\n",
        "\n",
        "g.add((PERSON.hasHomePage, RDF.type, RDF.Property))\n",
        "g.add((PERSON.hasHomePage, RDFS.domain, PERSON.FullProfessor))\n",
        "\n",
        "# datatypes\n",
        "g.add((PERSON.hasName, RDFS.label, Literal(\"hasName\", datatype=RDFS.Literal)))\n",
        "g.add((PERSON.hasColleague, RDFS.label, Literal(\"hasColleague\", datatype=PERSON.Person)))\n",
        "g.add((PERSON.hasHomePage, RDFS.label, Literal(\"hasHomePage\", datatype=XSD.string)))\n",
        "\n",
        "\n",
        "# Visualize the results\n",
        "for s, p, o in g:\n",
        "  print(s,p,o)"
      ]
    },
    {
      "cell_type": "code",
      "execution_count": 79,
      "metadata": {
        "id": "pd2mE-vGaxbu"
      },
      "outputs": [
        {
          "name": "stdout",
          "output_type": "stream",
          "text": [
            "ERROR: One of the properties is missing its correct label! I cannot retrieve it\n"
          ]
        }
      ],
      "source": [
        "# Validation. Do not remove\n",
        "r.validate_task_06_02(g)"
      ]
    },
    {
      "cell_type": "markdown",
      "metadata": {
        "id": "OGct6k7Ld9O0"
      },
      "source": [
        "**TASK 6.3: Create the individuals shown in slide 36 under \"Datos\". Link them with the same relationships shown in the diagram.\"**"
      ]
    },
    {
      "cell_type": "code",
      "execution_count": null,
      "metadata": {
        "id": "jbMMSHSZcFcf"
      },
      "outputs": [],
      "source": [
        "# TO DO\n",
        "# Visualize the results\n",
        "for s, p, o in g:\n",
        "  print(s,p,o)"
      ]
    },
    {
      "cell_type": "code",
      "execution_count": null,
      "metadata": {
        "id": "-3q4Wv2EfYew"
      },
      "outputs": [],
      "source": [
        "r.validate_task_06_03(g)"
      ]
    },
    {
      "cell_type": "markdown",
      "metadata": {
        "id": "tD383J__eHfV"
      },
      "source": [
        "**TASK 6.4: Add to the individual person:Oscar the email address, given and family names. Use the properties already included in example 4 to describe Jane and John (https://raw.githubusercontent.com/FacultadInformatica-LinkedData/Curso2025-2026/master/Assignment4/course_materials/rdf/example4.rdf). Do not import the namespaces, add them manually**\n"
      ]
    },
    {
      "cell_type": "code",
      "execution_count": null,
      "metadata": {
        "id": "hWmwlAfBcgN-"
      },
      "outputs": [],
      "source": [
        "# TO DO\n",
        "# Visualize the results\n",
        "for s, p, o in g:\n",
        "  print(s,p,o)"
      ]
    },
    {
      "cell_type": "code",
      "execution_count": null,
      "metadata": {
        "id": "Y1NiIQMyfgyF"
      },
      "outputs": [],
      "source": [
        "# Validation. Do not remove\n",
        "r.validate_task_06_04(g)\n",
        "r.save_report(\"_Task_06\")"
      ]
    }
  ],
  "metadata": {
    "colab": {
      "provenance": []
    },
    "kernelspec": {
      "display_name": ".venv",
      "language": "python",
      "name": "python3"
    },
    "language_info": {
      "codemirror_mode": {
        "name": "ipython",
        "version": 3
      },
      "file_extension": ".py",
      "mimetype": "text/x-python",
      "name": "python",
      "nbconvert_exporter": "python",
      "pygments_lexer": "ipython3",
      "version": "3.10.11"
    }
  },
  "nbformat": 4,
  "nbformat_minor": 0
}
